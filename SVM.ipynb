{
 "cells": [
  {
   "cell_type": "code",
   "execution_count": 1,
   "metadata": {},
   "outputs": [],
   "source": [
    "import numpy as np\n",
    "import pandas as pd\n",
    "from skimage import io, feature, color, data\n",
    "import matplotlib.pyplot as plt \n",
    "import cv2\n",
    "import os\n",
    "from sklearn.metrics import confusion_matrix, accuracy_score, classification_report\n",
    "from sklearn.svm import SVC\n",
    "from sklearn.model_selection import GridSearchCV "
   ]
  },
  {
   "cell_type": "code",
   "execution_count": 2,
   "metadata": {},
   "outputs": [],
   "source": [
    "train_img_path = './data/seg_train/seg_train/'\n",
    "test_img_path = './data/seg_test/seg_test/'\n",
    "\n",
    "X_train = []\n",
    "y_train = []\n",
    "\n",
    "X_test = []\n",
    "y_test = []\n",
    "\n",
    "labels=['Buildings','Forest', 'Glacier','Mountain','Sea','Street']\n"
   ]
  },
  {
   "cell_type": "code",
   "execution_count": 3,
   "metadata": {},
   "outputs": [],
   "source": [
    "#Extracts Histogram of Oriented Gradients of one image used for classification\n",
    "def get_hog(jpeg_path):\n",
    "    jpg = cv2.imread(jpeg_path)\n",
    "    jpg = cv2.resize(jpg,(150,150)) \n",
    "    hog = feature.hog(jpg)/255.0\n",
    "    return hog"
   ]
  },
  {
   "cell_type": "code",
   "execution_count": 4,
   "metadata": {},
   "outputs": [],
   "source": [
    "#Fetches all images from the data folder and gets hog for each file aswell as saves the labels in different array\n",
    "#Works with both train and test data\n",
    "def jpeg_to_array (scene_type, img_root_path, data_type):\n",
    "    scene_path = os.path.join(img_root_path,scene_type.lower())\n",
    "    print('Loading ' + data_type +' images for scene type '+scene_type)\n",
    "    for img in os.listdir(scene_path):\n",
    "        img_path = os.path.join(scene_path,img)\n",
    "        #Check if the path leads to an image\n",
    "        if img_path.endswith('.jpg'):\n",
    "            #Check if it is training or testing data and puts it in the right array\n",
    "            if(data_type == 'Training'):\n",
    "                X_train.append(get_hog(img_path))\n",
    "                y_train.append(labels.index(str(scene_type)))\n",
    "            if(data_type =='Testing'):\n",
    "                X_test.append(get_hog(img_path))\n",
    "                y_test.append(labels.index(str(scene_type)))\n"
   ]
  },
  {
   "cell_type": "code",
   "execution_count": 5,
   "metadata": {
    "scrolled": true
   },
   "outputs": [
    {
     "name": "stdout",
     "output_type": "stream",
     "text": [
      "Loading Training images for scene type Buildings\n",
      "Loading Training images for scene type Forest\n",
      "Loading Training images for scene type Glacier\n",
      "Loading Training images for scene type Mountain\n",
      "Loading Training images for scene type Sea\n",
      "Loading Training images for scene type Street\n"
     ]
    },
    {
     "data": {
      "text/plain": [
       "[None, None, None, None, None, None]"
      ]
     },
     "execution_count": 5,
     "metadata": {},
     "output_type": "execute_result"
    }
   ],
   "source": [
    "[jpeg_to_array(scene,train_img_path,'Training')for scene in labels]"
   ]
  },
  {
   "cell_type": "code",
   "execution_count": 6,
   "metadata": {
    "scrolled": true
   },
   "outputs": [
    {
     "name": "stdout",
     "output_type": "stream",
     "text": [
      "Loading Testing images for scene type Buildings\n",
      "Loading Testing images for scene type Forest\n",
      "Loading Testing images for scene type Glacier\n",
      "Loading Testing images for scene type Mountain\n",
      "Loading Testing images for scene type Sea\n",
      "Loading Testing images for scene type Street\n"
     ]
    },
    {
     "data": {
      "text/plain": [
       "[None, None, None, None, None, None]"
      ]
     },
     "execution_count": 6,
     "metadata": {},
     "output_type": "execute_result"
    }
   ],
   "source": [
    "[jpeg_to_array(scene,test_img_path,'Testing')for scene in labels]"
   ]
  },
  {
   "cell_type": "code",
   "execution_count": 7,
   "metadata": {},
   "outputs": [
    {
     "name": "stdout",
     "output_type": "stream",
     "text": [
      "              precision    recall  f1-score   support\n",
      "\n",
      "           0       0.83      0.82      0.82       437\n",
      "           1       0.90      0.94      0.92       474\n",
      "           2       0.62      0.66      0.64       553\n",
      "           3       0.60      0.58      0.59       525\n",
      "           4       0.74      0.71      0.72       510\n",
      "           5       0.86      0.82      0.84       501\n",
      "\n",
      "    accuracy                           0.75      3000\n",
      "   macro avg       0.76      0.76      0.76      3000\n",
      "weighted avg       0.75      0.75      0.75      3000\n",
      "\n"
     ]
    }
   ],
   "source": [
    "# train the model on train set \n",
    "model = SVC() \n",
    "model.fit(X_train, y_train) \n",
    "  \n",
    "# print prediction results \n",
    "predictions = model.predict(X_test) \n",
    "print(classification_report(y_test, predictions)) "
   ]
  },
  {
   "cell_type": "code",
   "execution_count": null,
   "metadata": {},
   "outputs": [
    {
     "name": "stdout",
     "output_type": "stream",
     "text": [
      "Fitting 5 folds for each of 25 candidates, totalling 125 fits\n",
      "[CV] C=0.1, gamma=1, kernel=rbf ......................................\n"
     ]
    },
    {
     "name": "stderr",
     "output_type": "stream",
     "text": [
      "[Parallel(n_jobs=1)]: Using backend SequentialBackend with 1 concurrent workers.\n"
     ]
    }
   ],
   "source": [
    "# defining parameter range \n",
    "param_grid = {'C': [0.1, 1, 10, 100, 1000],  \n",
    "              'gamma': [1, 0.1, 0.01, 0.001, 0.0001], \n",
    "              'kernel': ['rbf']}  \n",
    "  \n",
    "grid = GridSearchCV(SVC(), param_grid, refit = True, verbose = 3) \n",
    "  \n",
    "# fitting the model for grid search \n",
    "grid.fit(X_train, y_train) "
   ]
  },
  {
   "cell_type": "code",
   "execution_count": null,
   "metadata": {},
   "outputs": [],
   "source": [
    "grid_predictions = grid.predict(X_test) \n",
    "  \n",
    "# print classification report \n",
    "print(classification_report(y_test, grid_predictions)) "
   ]
  },
  {
   "cell_type": "code",
   "execution_count": null,
   "metadata": {},
   "outputs": [],
   "source": []
  },
  {
   "cell_type": "code",
   "execution_count": null,
   "metadata": {},
   "outputs": [],
   "source": []
  },
  {
   "cell_type": "code",
   "execution_count": null,
   "metadata": {},
   "outputs": [],
   "source": []
  }
 ],
 "metadata": {
  "kernelspec": {
   "display_name": "Python 3",
   "language": "python",
   "name": "python3"
  },
  "language_info": {
   "codemirror_mode": {
    "name": "ipython",
    "version": 3
   },
   "file_extension": ".py",
   "mimetype": "text/x-python",
   "name": "python",
   "nbconvert_exporter": "python",
   "pygments_lexer": "ipython3",
   "version": "3.8.6"
  }
 },
 "nbformat": 4,
 "nbformat_minor": 4
}
